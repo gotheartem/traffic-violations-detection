{
 "cells": [
  {
   "cell_type": "code",
   "execution_count": null,
   "metadata": {},
   "outputs": [],
   "source": [
    "import os\n",
    "import json\n",
    "from PIL import Image\n",
    "import numpy as np\n",
    "import pandas as pd\n",
    "import cv2\n",
    "import segmentation_models_pytorch as smp\n",
    "import torch\n",
    "import torch.nn as nn\n",
    "import torch.optim as optim\n",
    "from torch.functional import F\n",
    "from torch.utils.data import Dataset, DataLoader\n",
    "from torchvision.transforms import transforms\n",
    "from safetensors.torch import save_file, load_file\n",
    "from sklearn.preprocessing import LabelEncoder\n",
    "from decord import VideoReader, cpu\n",
    "from tqdm import tqdm"
   ]
  },
  {
   "cell_type": "code",
   "execution_count": null,
   "metadata": {},
   "outputs": [],
   "source": [
    "class TrainDataset(Dataset):\n",
    "    def __init__(self, vid_dir, targets, targets_encoder=None, disc_freq=5):\n",
    "        self.videos_names = []\n",
    "        self.videos = []\n",
    "        self.videos_len = []\n",
    "        self.fps = []\n",
    "        self.videos_samples_len = []\n",
    "        \n",
    "        # Preload video metadata and prepare decoders\n",
    "        for filename in os.listdir(vid_dir):\n",
    "            if not filename.endswith('.txt'):\n",
    "                filepath = os.path.join(vid_dir, filename)\n",
    "                self.videos_names.append(filename)\n",
    "\n",
    "                with open(filepath, 'rb') as f:\n",
    "                    video_reader = VideoReader(f, ctx=cpu(0))\n",
    "\n",
    "                self.videos.append(video_reader)\n",
    "                self.videos_len.append(len(video_reader))\n",
    "                self.fps.append(video_reader.get_avg_fps())\n",
    "\n",
    "                assert disc_freq <= self.fps[-1]\n",
    "                self.videos_samples_len.append(int(self.videos_len[-1] / self.fps[-1] * disc_freq))\n",
    "        \n",
    "        self.disc_freq = disc_freq\n",
    "        self.targets = targets\n",
    "\n",
    "        # Encode targets if encoder provided\n",
    "        if targets_encoder:\n",
    "            self.targets_encoder = targets_encoder\n",
    "            self.targets = self.targets_encoder.transform(self.targets)\n",
    "        else:\n",
    "            self.targets_encoder = LabelEncoder()\n",
    "            self.targets['violation'] = self.targets_encoder.fit_transform(self.targets['violation'])\n",
    "\n",
    "    def __len__(self):\n",
    "        return sum(self.videos_samples_len)\n",
    "\n",
    "    def __getitem__(self, idx):\n",
    "        # Determine which video this idx falls into\n",
    "        for vid_idx in range(len(self.videos)):\n",
    "            if idx >= self.videos_samples_len[vid_idx]:\n",
    "                idx -= self.videos_samples_len[vid_idx]\n",
    "            else:\n",
    "                break\n",
    "        \n",
    "        # Calculate the frame index based on disc_freq\n",
    "        frame_sec = int(idx / self.disc_freq - 1e-8)\n",
    "        frame_idx = int(idx / self.disc_freq * self.fps[vid_idx])\n",
    "        \n",
    "        # Use Decord to fetch the frame efficiently\n",
    "        video_reader = self.videos[vid_idx]\n",
    "        frame = video_reader[frame_idx].asnumpy()\n",
    "        \n",
    "        # Convert BGR to RGB\n",
    "        frame = cv2.resize(frame, (736, 416), interpolation=cv2.INTER_CUBIC)   \n",
    "        frame = cv2.cvtColor(frame, cv2.COLOR_BGR2RGB)\n",
    "        frame = Image.fromarray(frame)\n",
    "\n",
    "        transform = transforms.Compose([\n",
    "            transforms.ToTensor(),\n",
    "            transforms.Normalize(mean=[0.485, 0.456, 0.406], \n",
    "                                 std=[0.229, 0.224, 0.225])\n",
    "        ])\n",
    "\n",
    "        frame = transform(frame)\n",
    "\n",
    "        # Extract the label for the current frame\n",
    "        label = self.targets['violation'][(self.targets['id'] == self.videos_names[vid_idx].split('.')[0].lower()) \n",
    "                                          & (self.targets['time'] == frame_sec + 1)]\n",
    "        assert len(label) == 1\n",
    "        label = label.iloc[0]\n",
    "        \n",
    "        return frame, label"
   ]
  },
  {
   "cell_type": "code",
   "execution_count": null,
   "metadata": {},
   "outputs": [],
   "source": [
    "dataset = TrainDataset('../data/train_videos/', pd.read_csv('../data/train_targets.csv'), disc_freq=1/10)"
   ]
  },
  {
   "cell_type": "code",
   "execution_count": null,
   "metadata": {},
   "outputs": [],
   "source": [
    "loader = DataLoader(dataset, 16)\n",
    "for i in loader:\n",
    "    frame, label = i"
   ]
  },
  {
   "cell_type": "code",
   "execution_count": null,
   "metadata": {},
   "outputs": [],
   "source": [
    "dataset.videos = None"
   ]
  }
 ],
 "metadata": {
  "kernelspec": {
   "display_name": ".venv",
   "language": "python",
   "name": "python3"
  },
  "language_info": {
   "codemirror_mode": {
    "name": "ipython",
    "version": 3
   },
   "file_extension": ".py",
   "mimetype": "text/x-python",
   "name": "python",
   "nbconvert_exporter": "python",
   "pygments_lexer": "ipython3",
   "version": "3.11.10"
  }
 },
 "nbformat": 4,
 "nbformat_minor": 2
}
