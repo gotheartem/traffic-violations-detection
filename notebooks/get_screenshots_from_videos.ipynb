{
 "cells": [
  {
   "cell_type": "code",
   "execution_count": null,
   "metadata": {},
   "outputs": [],
   "source": [
    "import os\n",
    "import random\n",
    "import cv2 as cv\n",
    "from tqdm import tqdm"
   ]
  },
  {
   "cell_type": "code",
   "execution_count": null,
   "metadata": {},
   "outputs": [],
   "source": [
    "# base paths\n",
    "ROOT_DIR = os.path.join(os.getcwd(), os.pardir)\n",
    "DATA_DIR = os.path.join(ROOT_DIR, 'data')\n",
    "TRAIN_VIDEOS_DIR = os.path.join(DATA_DIR, 'train_videos')\n",
    "OUTPUT_SCREENSHOTS_DIR = os.path.join(DATA_DIR, 'screenshots')\n",
    "\n",
    "os.makedirs(OUTPUT_SCREENSHOTS_DIR, exist_ok=True)"
   ]
  },
  {
   "cell_type": "code",
   "execution_count": null,
   "metadata": {},
   "outputs": [],
   "source": [
    "video_paths = []\n",
    "\n",
    "# get video paths\n",
    "for filename in os.listdir(TRAIN_VIDEOS_DIR):\n",
    "    # ignore txt\n",
    "    if filename.endswith('.txt'):\n",
    "        continue\n",
    "\n",
    "    video_path = os.path.join(TRAIN_VIDEOS_DIR, filename)\n",
    "    video_paths.append(video_path)"
   ]
  },
  {
   "cell_type": "code",
   "execution_count": null,
   "metadata": {},
   "outputs": [],
   "source": [
    "# parameters\n",
    "n_screenshots = 1000\n",
    "n_random_screenshots_from_video = int(n_screenshots / len(video_paths))\n",
    "random.seed(42)\n",
    "\n",
    "# get screenshots\n",
    "with tqdm(total=n_screenshots, desc=\"Capturing screenshots\") as pbar:\n",
    "    screenshots_counter = 0 # counts successfully got screenshots\n",
    "    for input_video_path in video_paths:\n",
    "        # capture video\n",
    "        cap = cv.VideoCapture(input_video_path)\n",
    "        total_frames = int(cap.get(cv.CAP_PROP_FRAME_COUNT))\n",
    "\n",
    "        # get n random screenshots\n",
    "        random_indices = random.sample(range(total_frames), n_random_screenshots_from_video)\n",
    "        for idx in random_indices:\n",
    "            # set capture to random position and read it\n",
    "            cap.set(cv.CAP_PROP_POS_FRAMES, idx)\n",
    "            status_ok, frame = cap.read()\n",
    "\n",
    "            # if status ok then write screenshot to output dir\n",
    "            if status_ok:\n",
    "                filename = os.path.join(OUTPUT_SCREENSHOTS_DIR, f'{screenshots_counter}.jpg')\n",
    "                cv.imwrite(filename, frame)\n",
    "                screenshots_counter += 1\n",
    "                pbar.update(1)\n",
    "\n",
    "        cap.release()"
   ]
  }
 ],
 "metadata": {
  "kernelspec": {
   "display_name": ".venv",
   "language": "python",
   "name": "python3"
  },
  "language_info": {
   "codemirror_mode": {
    "name": "ipython",
    "version": 3
   },
   "file_extension": ".py",
   "mimetype": "text/x-python",
   "name": "python",
   "nbconvert_exporter": "python",
   "pygments_lexer": "ipython3",
   "version": "3.11.10"
  }
 },
 "nbformat": 4,
 "nbformat_minor": 2
}
